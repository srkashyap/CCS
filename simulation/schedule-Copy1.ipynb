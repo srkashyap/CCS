{
 "cells": [
  {
   "cell_type": "code",
   "execution_count": 29,
   "metadata": {},
   "outputs": [],
   "source": [
    "import math\n",
    "import random\n",
    "import datetime\n",
    "import numpy as np\n",
    "import pandas as pd\n",
    "import matplotlib.pyplot as plt\n",
    "from collections import defaultdict"
   ]
  },
  {
   "cell_type": "code",
   "execution_count": 30,
   "metadata": {
    "collapsed": true
   },
   "outputs": [],
   "source": [
    "def class_times(df0):\n",
    "    df2 = df0 \n",
    "    student_keys = df2.STUDENTSOURCEKEY.unique()\n",
    "    key = random.choice(student_keys)\n",
    "    df1 = df2.loc[df2['STUDENTSOURCEKEY'] == key]\n",
    "    tot_creds = df1['CREDITSATTEMPTED'].sum()\n",
    "    class_dict = defaultdict(int)\n",
    "    for i,j in df1.iterrows():\n",
    "        x = j['CLASSMEETINGPATTERN'].replace('-',',')\n",
    "        x = x.split(',')\n",
    "        for days in x:\n",
    "            class_dict[days] += j['timeofclass'] \n",
    "    return class_dict,tot_creds"
   ]
  },
  {
   "cell_type": "code",
   "execution_count": null,
   "metadata": {
    "collapsed": true
   },
   "outputs": [],
   "source": []
  },
  {
   "cell_type": "code",
   "execution_count": 31,
   "metadata": {
    "collapsed": true
   },
   "outputs": [],
   "source": [
    "###########ALLOCATION OF TIMES TO RANDOM ACTIVITIES \n",
    "def allocation(days,class_dict,tot_creds):\n",
    "    my_dict = defaultdict(lambda : list())\n",
    "    dict_bottom = defaultdict(lambda : list())\n",
    "\n",
    "    for i,j in enumerate(days):\n",
    "        #starting count timer = 0\n",
    "        timer = 0\n",
    "        \n",
    "        #1sleep time generation\n",
    "        sleep_time = abs(math.floor(random.normalvariate(8.8,1.22)*60))\n",
    "        my_dict['sleep'].append(sleep_time)  #calculated in hrs and converted to mins\n",
    "        #update sleep time\n",
    "        timer += sleep_time\n",
    "        dict_bottom['class_time'].append(sleep_time)\n",
    "\n",
    "        #2 class_time imported from the excel data\n",
    "        class_time = class_dict[j]\n",
    "        my_dict['class_time'].append(class_time)\n",
    "        timer += class_time\n",
    "        dict_bottom['eat_time'].append(dict_bottom['class_time'][i]+class_time)\n",
    "       \n",
    "        #3 eat time mean = 84 mins and sd = 5\n",
    "        eat_time = abs(math.floor(random.normalvariate(64,50)))\n",
    "        my_dict['eat'].append(eat_time)  #calculated in mins\n",
    "        timer += eat_time\n",
    "        dict_bottom['commute'].append(dict_bottom['eat_time'][i]+eat_time)\n",
    "\n",
    "        #5 commute time in mins      \n",
    "        commute_time = abs(math.floor(random.normalvariate(4.997908,5.651849))/5)*60\n",
    "        my_dict['commute'].append(commute_time)\n",
    "        timer += commute_time\n",
    "        dict_bottom['work'].append(dict_bottom['commute'][i]+commute_time)\n",
    "\n",
    "        #6 work on campus\n",
    "        work_time = abs(math.floor(random.normalvariate(4.945607,8.574569))/5)*60\n",
    "        my_dict['work'].append(work_time)\n",
    "        timer += work_time\n",
    "        dict_bottom['social'].append(dict_bottom['work'][i]+work_time)\n",
    "\n",
    "        #7 socializing time in mins\n",
    "        time_socializing = abs(math.floor(random.normalvariate(12.947699,8.530829))/5)*60\n",
    "        my_dict['social'].append(time_socializing)\n",
    "        timer += time_socializing\n",
    "        dict_bottom['hw'].append(dict_bottom['social'][i]+time_socializing)\n",
    "        \n",
    "        #8 HW allocation\n",
    "        hw = ((abs(math.floor(random.normalvariate(1.39,0.924388))) * tot_creds)/5) * 60\n",
    "        my_dict['hw'].append(hw)  \n",
    "#         tot_hw_rem -= hw\n",
    "        timer += hw \n",
    "    \n",
    "        dict_bottom['residuals'].append(dict_bottom['hw'][i]+time_socializing)\n",
    "\n",
    "        #9 residual time in mins\n",
    "#         print('timer is : ',timer)\n",
    "        my_dict['residuals'].append(1440-timer)\n",
    "        #print(my_dict)\n",
    "        cummulative = []\n",
    "        for i in my_dict.keys():\n",
    "            cummulative.append(sum(my_dict[i]))\n",
    "        \n",
    "        cumm_class = []\n",
    "        for i in my_dict.keys():\n",
    "            cumm_class.append(sum(my_dict[i]))\n",
    "        \n",
    "    return my_dict,dict_bottom,cummulative,cumm_class"
   ]
  },
  {
   "cell_type": "code",
   "execution_count": 32,
   "metadata": {
    "collapsed": true
   },
   "outputs": [],
   "source": [
    "def plot_daily(my_dict,dict_bottom):\n",
    "    N = 5\n",
    "    sleep_times = my_dict['sleep']\n",
    "    class_times =my_dict['class_time']\n",
    "    commute_times = my_dict['commute']\n",
    "    eat_times = my_dict['eat']\n",
    "    work_times = my_dict['work']\n",
    "    time_socializing = my_dict['social']\n",
    "    hw_time = my_dict['hw']\n",
    "    residual_times = my_dict['residuals']\n",
    "\n",
    "    ind = np.arange(N)  \n",
    "    width = 0.75      \n",
    "\n",
    "    plt.figure(figsize=(7,5))\n",
    "    p1 = plt.bar(ind, sleep_times, width)\n",
    "    p2 = plt.bar(ind, class_times,width,bottom = dict_bottom['class_time'])\n",
    "    p3 = plt.bar(ind, commute_times, width,bottom = dict_bottom['commute'])\n",
    "    p4 = plt.bar(ind, eat_times,width,bottom = dict_bottom['eat_time'])\n",
    "    p5 = plt.bar(ind, work_times,width,bottom= dict_bottom['work'])\n",
    "    p6 = plt.bar(ind, time_socializing,width,bottom= dict_bottom['social'])\n",
    "    p7 = plt.bar(ind, hw_time,width,bottom = dict_bottom['hw'])\n",
    "    p8 = plt.bar(ind, residual_times,width,bottom= dict_bottom['residual'])\n",
    "\n",
    "    plt.ylabel('minutes')\n",
    "    plt.title('day of the week')\n",
    "    plt.xticks(ind, ('Monday','Tuesday','Wednesday','Thursday','Friday'))\n",
    "#     plt.yticks(np.arange(0,600,1440))\n",
    "    plt.legend((p1[0], p2[0],p3[0],p4[0],p5[0],p6[0],p7[0],p8[0]), ('sleep','class', 'commute','eat','work','social','hw','Residuals'),\n",
    "                               bbox_to_anchor=(1.1,0.7), loc=\"lower right\", \n",
    "                              bbox_transform=plt.gcf().transFigure)\n",
    "    plt.show()\n",
    "    return"
   ]
  },
  {
   "cell_type": "code",
   "execution_count": 33,
   "metadata": {
    "collapsed": true
   },
   "outputs": [],
   "source": [
    "def plot_weekly(my_dict,cummulative):\n",
    "    # Pie chart, where the slices will be ordered and plotted counter-clockwise:\n",
    "    labels = my_dict.keys()\n",
    "    sizes = cummulative\n",
    "    explode = (0,0,0,0,0,0,0,0.2)  # only \"explode\" the 2nd slice (i.e. 'Hogs')\n",
    "    fig1, ax1 = plt.subplots()\n",
    "    ax1.pie(sizes, explode=explode, labels=labels, autopct='%1.1f%%',\n",
    "            startangle=120)\n",
    "    ax1.axis('equal')  # Equal aspect ratio ensures that pie is drawn as a circle.\n",
    "#     plt.savefig('time.png',dpi = 1080)\n",
    "    plt.show()\n",
    "    return"
   ]
  },
  {
   "cell_type": "code",
   "execution_count": 34,
   "metadata": {
    "collapsed": true
   },
   "outputs": [],
   "source": [
    "# n,m = class_times(df0)\n",
    "# x,y,z1,z2 = allocation(days,n,m)\n",
    "# # plot_daily(x,y )\n",
    "# plot_weekly(x,z1)\n",
    "# plot_weekly(x,z2)\n",
    "# # x,y,z1,z2\n",
    "# x"
   ]
  },
  {
   "cell_type": "code",
   "execution_count": 35,
   "metadata": {
    "collapsed": true
   },
   "outputs": [],
   "source": [
    "df1 =pd.read_excel('spring_2017.xlsx')"
   ]
  },
  {
   "cell_type": "code",
   "execution_count": 36,
   "metadata": {
    "collapsed": true
   },
   "outputs": [],
   "source": [
    "drops = ['Arranged','To Be Determined','Unknown','Unspecified']\n",
    "days = ['Monday','Tuesday','Wednesday','Thursday','Friday']\n",
    "df0 = df1[~df1.CLASSMEETINGPATTERN.isin(drops)]\n",
    "df0 = df0[df0.PROGRAM.isin(['Engnr & Appl Sci Bachelor', 'Engnr & Appl Sci Masters',\n",
    "           'Engnr & Appl Sci SBSQ Bachelor','Engnr & Appl Sci Comb Bachelor'])]\n",
    "df0 = df0.drop_duplicates()\n",
    "drops = ['Arranged','To Be Determined','Unknown','Unspecified']\n",
    "drop_indexes = []\n",
    "for i,j in df0.iterrows():\n",
    "    if j['CLASSMEETINGPATTERN'] in drops:\n",
    "        drop_indexes.append(i)\n",
    "df0 = df0.drop(drop_indexes)\n",
    "df0.reset_index(inplace=True)\n",
    "times = []\n",
    "for i in range(len(df0)):\n",
    "    if df0.CLASSSTARTTIME[i] != 'Unknown' and df0.CLASSENDTIME[i] != 'Unknown':\n",
    "        end = pd.to_datetime(df0.CLASSENDTIME[i]) \n",
    "        start = pd.to_datetime(df0.CLASSSTARTTIME[i])\n",
    "        time = pd.Timedelta(end - start) / np.timedelta64(1, 'm')\n",
    "        times.append(time)\n",
    "    else:\n",
    "        times.append(0)\n",
    "df0['timeofclass'] = times\n",
    "dfn=df0"
   ]
  },
  {
   "cell_type": "code",
   "execution_count": 37,
   "metadata": {},
   "outputs": [
    {
     "data": {
      "image/png": "[encoded data removed]",
      "text/plain": [
       "<Figure size 576x720 with 1 Axes>"
      ]
     },
     "metadata": {},
     "output_type": "display_data"
    }
   ],
   "source": [
    "negatives_x = []\n",
    "negatives_y = []\n",
    "residual_times = []\n",
    "for i in range(1500):\n",
    "#     print(i)\n",
    "    n,m = class_times(dfn)\n",
    "    residual_times_ind = []\n",
    "    for j in range(50):        \n",
    "        a,b,c1,c2 = allocation(days,n,m)\n",
    "        residual_times.append(c1[-1])\n",
    "        if c1[-1] <0:\n",
    "            negatives_x.append(a)\n",
    "            negatives_y.append(b)\n",
    "#             print('OBSERVE')\n",
    "#             break\n",
    "#     break\n",
    "residuals = [residual for residual in residual_times if residual>=0]\n",
    "fig,ax = plt.subplots(figsize=(8,10))\n",
    "part = ax.violinplot(residuals,vert=True,showmedians=True)\n",
    "\n",
    "for pc in part['bodies']:\n",
    "    pc.set_facecolor('gold')\n",
    "    pc.set_edgecolor('black')\n",
    "    pc.set_alpha(0.6)\n",
    "\n",
    "    \n",
    "ax.set_ylabel('Residual times in minutes',fontsize =15)\n",
    "plt.title('Residual times over the weekday',fontsize =15)\n",
    "\n",
    "plt.show()"
   ]
  },
  {
   "cell_type": "code",
   "execution_count": 38,
   "metadata": {},
   "outputs": [
    {
     "data": {
      "text/plain": [
       "('mean : ', 1036.8670141009075, 'std deviation : ', 551.3404136879725)"
      ]
     },
     "execution_count": 38,
     "metadata": {},
     "output_type": "execute_result"
    }
   ],
   "source": [
    "'mean : ' ,np.mean(residuals), 'std deviation : ' ,np.std(residuals)"
   ]
  },
  {
   "cell_type": "code",
   "execution_count": null,
   "metadata": {
    "collapsed": true
   },
   "outputs": [],
   "source": []
  },
  {
   "cell_type": "code",
   "execution_count": null,
   "metadata": {
    "collapsed": true
   },
   "outputs": [],
   "source": []
  },
  {
   "cell_type": "code",
   "execution_count": null,
   "metadata": {
    "collapsed": true
   },
   "outputs": [],
   "source": []
  },
  {
   "cell_type": "code",
   "execution_count": null,
   "metadata": {
    "collapsed": true
   },
   "outputs": [],
   "source": []
  },
  {
   "cell_type": "code",
   "execution_count": null,
   "metadata": {
    "collapsed": true
   },
   "outputs": [],
   "source": []
  }
 ],
 "metadata": {
  "kernelspec": {
   "display_name": "Python 3",
   "language": "python",
   "name": "python3"
  },
  "language_info": {
   "codemirror_mode": {
    "name": "ipython",
    "version": 3
   },
   "file_extension": ".py",
   "mimetype": "text/x-python",
   "name": "python",
   "nbconvert_exporter": "python",
   "pygments_lexer": "ipython3",
   "version": "3.6.3"
  }
 },
 "nbformat": 4,
 "nbformat_minor": 2
}
