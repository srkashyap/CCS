{
 "cells": [
  {
   "cell_type": "code",
   "execution_count": 1,
   "metadata": {
    "collapsed": true
   },
   "outputs": [],
   "source": [
    "import numpy as np\n",
    "import pandas as pd\n",
    "import pandas\n",
    "import random\n",
    "from collections import defaultdict\n",
    "import math\n",
    "import matplotlib.pyplot as plt\n",
    "import random\n",
    "import datetime"
   ]
  },
  {
   "cell_type": "code",
   "execution_count": 2,
   "metadata": {
    "collapsed": true
   },
   "outputs": [],
   "source": [
    "df0 = pd.read_excel('2199 SCHEDULES 10232020.xlsx')"
   ]
  },
  {
   "cell_type": "code",
   "execution_count": null,
   "metadata": {
    "collapsed": true
   },
   "outputs": [],
   "source": []
  },
  {
   "cell_type": "code",
   "execution_count": 3,
   "metadata": {
    "collapsed": true
   },
   "outputs": [],
   "source": [
    "times = []\n",
    "for i in range(len(df0)):\n",
    "    if df0.CLASSSTARTTIME[i] != 'Unknown' and df0.CLASSENDTIME[i] != 'Unknown':\n",
    "        end = pd.to_datetime(df0.CLASSENDTIME[i]) \n",
    "        start = pd.to_datetime(df0.CLASSSTARTTIME[i])\n",
    "        time = pd.Timedelta(end - start) / np.timedelta64(1, 'm')\n",
    "#         print(time / np.timedelta64(1, 'm'))\n",
    "    #     astype('timedelta64[s]')\n",
    "        times.append(time)\n",
    "    else:\n",
    "        times.append(0)\n",
    "df0['timeofclass'] = times"
   ]
  },
  {
   "cell_type": "code",
   "execution_count": 25,
   "metadata": {},
   "outputs": [
    {
     "data": {
      "text/plain": [
       "50241866"
      ]
     },
     "execution_count": 25,
     "metadata": {},
     "output_type": "execute_result"
    }
   ],
   "source": [
    "# df0.set_index('STUDENTSOURCEKEY',inplace=True)\n",
    "df0.reset_index(inplace=True)\n",
    "student_keys = df0.STUDENTSOURCEKEY.unique()\n",
    "key = random.choice(student_keys)\n",
    "key\n",
    "# key = 29083094"
   ]
  },
  {
   "cell_type": "code",
   "execution_count": 26,
   "metadata": {
    "collapsed": true
   },
   "outputs": [],
   "source": [
    "df0.set_index('STUDENTSOURCEKEY',inplace=True)"
   ]
  },
  {
   "cell_type": "code",
   "execution_count": 27,
   "metadata": {
    "collapsed": true
   },
   "outputs": [],
   "source": [
    "df1 =df0.loc[key]"
   ]
  },
  {
   "cell_type": "code",
   "execution_count": 28,
   "metadata": {
    "scrolled": false
   },
   "outputs": [
    {
     "data": {
      "text/plain": [
       "defaultdict(int, {'Friday': 100.0, 'Monday': 50.0, 'Wednesday': 50.0})"
      ]
     },
     "execution_count": 28,
     "metadata": {},
     "output_type": "execute_result"
    }
   ],
   "source": [
    "class_dict = defaultdict(int)\n",
    "for i,j in df1.iterrows():\n",
    "    x = j['CLASSMEETINGPATTERN'].replace('-',',').replace(' ',',')\n",
    "    x = x.split(',')\n",
    "    for days in x:\n",
    "        j['timeofclass']\n",
    "        class_dict[days] += j['timeofclass']\n",
    "class_dict"
   ]
  },
  {
   "cell_type": "code",
   "execution_count": 391,
   "metadata": {
    "collapsed": true
   },
   "outputs": [],
   "source": [
    "# df1"
   ]
  },
  {
   "cell_type": "code",
   "execution_count": null,
   "metadata": {
    "collapsed": true,
    "scrolled": true
   },
   "outputs": [],
   "source": []
  },
  {
   "cell_type": "code",
   "execution_count": null,
   "metadata": {
    "collapsed": true
   },
   "outputs": [],
   "source": []
  },
  {
   "cell_type": "code",
   "execution_count": 411,
   "metadata": {
    "collapsed": true
   },
   "outputs": [],
   "source": [
    "# df1.loc[:,['CLASSMEETINGPATTERN','timeofclass']]"
   ]
  },
  {
   "cell_type": "code",
   "execution_count": null,
   "metadata": {
    "collapsed": true
   },
   "outputs": [],
   "source": []
  },
  {
   "cell_type": "code",
   "execution_count": null,
   "metadata": {
    "collapsed": true
   },
   "outputs": [],
   "source": []
  },
  {
   "cell_type": "code",
   "execution_count": null,
   "metadata": {
    "collapsed": true
   },
   "outputs": [],
   "source": []
  },
  {
   "cell_type": "code",
   "execution_count": null,
   "metadata": {
    "collapsed": true
   },
   "outputs": [],
   "source": [
    "# total_time = []\n",
    "\n",
    "# for i in range(len(df0)):\n",
    "#     if df0.CLASSSTARTTIME[i] != 'Unknown' and df0.CLASSENDTIME[i] != 'Unknown':\n",
    "#         print(i,df0.CLASSSTARTTIME[i],df0.CLASSENDTIME[i])\n",
    "\n",
    "#         x,y = df0.CLASSSTARTTIME[i].split(':')\n",
    "#         #     print(x,y)\n",
    "#         hrs_0 = int(x)\n",
    "#         mins_0 = int(y[:2])\n",
    "\n",
    "#         x,y = df0.CLASSENDTIME[i].split(':')\n",
    "#         #     print(x,y)\n",
    "#         hrs_1 = int(x)\n",
    "#         mins_1 = int(y[0:2])\n",
    "#         time_mins = mins_1 - mins_0\n",
    "#         time_hrs = hrs_0 - hrs_1\n",
    "#         print(time_hrs*60 + time_mins)\n",
    "#         total_time.append(time_hrs*60 + time_mins)\n",
    "#     else:\n",
    "#         total_time.append(0)\n",
    "#         break\n",
    " \n",
    "# #     print(time_hrs*60 + time_mins)\n",
    "# #     break\n",
    "# # hrs_0,mins_0,hrs_1,mins_1"
   ]
  }
 ],
 "metadata": {
  "kernelspec": {
   "display_name": "Python 3",
   "language": "python",
   "name": "python3"
  },
  "language_info": {
   "codemirror_mode": {
    "name": "ipython",
    "version": 3
   },
   "file_extension": ".py",
   "mimetype": "text/x-python",
   "name": "python",
   "nbconvert_exporter": "python",
   "pygments_lexer": "ipython3",
   "version": "3.6.3"
  }
 },
 "nbformat": 4,
 "nbformat_minor": 2
}
