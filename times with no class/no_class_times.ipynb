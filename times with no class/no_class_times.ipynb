{
 "cells": [
  {
   "cell_type": "code",
   "execution_count": 74,
   "metadata": {
    "collapsed": true
   },
   "outputs": [],
   "source": [
    "import math\n",
    "import random\n",
    "import datetime\n",
    "import seaborn as sns\n",
    "import copy\n",
    "from datetime import datetime\n",
    "from collections import defaultdict\n",
    "import numpy as np\n",
    "import pandas as pd\n",
    "import matplotlib.pyplot as plt\n",
    "import time\n",
    "import copy"
   ]
  },
  {
   "cell_type": "code",
   "execution_count": null,
   "metadata": {
    "collapsed": true
   },
   "outputs": [],
   "source": [
    "'''\n",
    "The enrollment data file was transformed to contain one daw per row and named days_sliced. It is taken as input.\n",
    "time of day where student has no class is the output\n",
    "'''"
   ]
  },
  {
   "cell_type": "code",
   "execution_count": 77,
   "metadata": {
    "collapsed": true
   },
   "outputs": [],
   "source": [
    "st = pd.read_excel('days_sliced.xlsx')"
   ]
  },
  {
   "cell_type": "code",
   "execution_count": 78,
   "metadata": {
    "collapsed": true
   },
   "outputs": [],
   "source": [
    "        #PREPROCESSING \n",
    "st['STUDENTSOURCEKEY'] = st['STUDENTSOURCEKEY'].astype(int) '''<-- converting sourcekey column to integer type'''\n",
    "st['TIMES'] = st['TIMES'].astype(int) '''<-- time column to integer type'''\n",
    "st['CREDITSATTEMPTED'] = st['CREDITSATTEMPTED'].astype(int)  '''credits column to integer type'''\n",
    "'''Selecting desired columns'''\n",
    "st = st[['STUDENTSOURCEKEY','CREDITSATTEMPTED','CLASSMEETINGPATTERN', 'CLASSSTARTTIME','CLASSENDTIME',  'TIMES']]\n",
    "st = st.sort_values(by = 'CLASSSTARTTIME').reset_index()"
   ]
  },
  {
   "cell_type": "code",
   "execution_count": 79,
   "metadata": {
    "collapsed": true
   },
   "outputs": [],
   "source": [
    "###### CREATING AND POPULATING A DICTIONARY OF CLASS TIMES TAKES LONG TIME\n",
    "main = defaultdict(list)\n",
    "for i in st.index:\n",
    "#     print(i)\n",
    "#     print(st.loc[i]['CLASSMEETINGPATTERN'].lower())\n",
    "    start = st.loc[i]['CLASSSTARTTIME']\n",
    "    end = st.loc[i]['CLASSENDTIME']\n",
    "    main[(st.loc[i]['STUDENTSOURCEKEY'],st.loc[i]['CLASSMEETINGPATTERN'].lower())].append((start,end))"
   ]
  },
  {
   "cell_type": "code",
   "execution_count": 81,
   "metadata": {
    "collapsed": true
   },
   "outputs": [],
   "source": [
    "#########  CREATING  DICTIONARY OF FREE TIME FOR EACH DAY\n",
    "'''\n",
    "Iterate over the day and select first class time starting  from 9 AM.\n",
    "make the end of first class as start of first interval and start of next class as end of the current interval. \n",
    "Repeat timm end time (6 PM).\n",
    "'''\n",
    "#########JOINING THE TIMES TOGETHER AS TUPLES\n",
    "amputed=defaultdict(list)\n",
    "for key,times in main.items():\n",
    "    res=[]\n",
    "    prev=time.strptime('9:00AM', '%I:%M%p') '''<-- set start time of day here'''\n",
    "    for t in times:\n",
    "        s1 = t[0].strftime(\"%I:%M%p\")\n",
    "        start = time.strptime(s1,'%I:%M%p')\n",
    "        e1 = t[1].strftime(\"%I:%M%p\")\n",
    "        end = time.strptime(e1,'%I:%M%p')\n",
    "        if prev>=time.strptime('6:00PM', '%I:%M%p'): '''<-- set end time of the day here'''\n",
    "            break\n",
    "        if prev<start:\n",
    "            res.append((str(prev.tm_hour)+':'+str(prev.tm_min),str(start.tm_hour)+':'+str(start.tm_min)))\n",
    "        if end>prev:\n",
    "            prev=end\n",
    "    if prev<time.strptime('6:00PM', '%I:%M%p'):     \n",
    "        res.append((str(prev.tm_hour)+':'+str(prev.tm_min),'18:00'))\n",
    "    amputed[key]+=res\n",
    "# amputed\n"
   ]
  },
  {
   "cell_type": "code",
   "execution_count": 82,
   "metadata": {
    "collapsed": true
   },
   "outputs": [],
   "source": [
    "'''The dictionary with times of free times each day is converted to data frame'''\n",
    "data = pd.DataFrame.from_dict(amputed,orient='index').reset_index()\n",
    "data[['ID', 'day']] = pd.DataFrame(data['index'].tolist())\n",
    "data.drop(columns='index',inplace=True)\n",
    "data = data[['ID', 'day',0, 1, 2, 3, 4, 5, 6]]\n",
    "data = data.fillna(0)\n",
    "'''Since the co-class times are given as start and end time tuple pairs, \n",
    "    duration of each intervalis calculated seperately here.'''\n",
    "def func(x):\n",
    "    if x==0:\n",
    "        return 0\n",
    "    else:\n",
    "#         s = datetime.strp(x[0],'%H:%M')\n",
    "        return (datetime.strptime(x[1],'%H:%M') -datetime.strptime(x[0],'%H:%M')).total_seconds()/60\n",
    "for i in range(l_):\n",
    "    temp = 'dur_' + str(i)\n",
    "    data[temp] = data[i].apply(lambda x: func(x))\n",
    "'''Selecting only the required columns '''\n",
    "fin= data[['ID', 'day',0, 'dur_0',1,'dur_1',2,'dur_2',3,'dur_3', 4,'dur_4',5,'dur_5',6,'dur_6',]]\n",
    "'''Writing the dataframe to excel'''\n",
    "fin.to_excel('no_class.xlsx')"
   ]
  }
 ],
 "metadata": {
  "kernelspec": {
   "display_name": "Python 3",
   "language": "python",
   "name": "python3"
  },
  "language_info": {
   "codemirror_mode": {
    "name": "ipython",
    "version": 3
   },
   "file_extension": ".py",
   "mimetype": "text/x-python",
   "name": "python",
   "nbconvert_exporter": "python",
   "pygments_lexer": "ipython3",
   "version": "3.6.3"
  }
 },
 "nbformat": 4,
 "nbformat_minor": 2
}
